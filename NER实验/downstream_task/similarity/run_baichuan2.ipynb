{
 "cells": [
  {
   "cell_type": "code",
   "execution_count": 1,
   "metadata": {
    "ExecuteTime": {
     "end_time": "2023-12-11T14:12:00.321529Z",
     "start_time": "2023-12-11T14:12:00.315441Z"
    }
   },
   "outputs": [],
   "source": [
    "import requests\n",
    "from sklearn.metrics.pairwise import cosine_similarity\n",
    "import numpy as np\n",
    "import json\n",
    "from tqdm import tqdm\n"
   ]
  },
  {
   "cell_type": "code",
   "execution_count": 2,
   "metadata": {
    "ExecuteTime": {
     "end_time": "2023-12-11T14:12:00.921519Z",
     "start_time": "2023-12-11T14:12:00.914401Z"
    }
   },
   "outputs": [],
   "source": [
    "URI = 'api_for_baichuan2_13B'\n",
    "\n",
    "def call_api(input, word, mode):\n",
    "    request = {\n",
    "        'input': input,\n",
    "        'word': word,\n",
    "        'mode': mode,\n",
    "    }\n",
    "    response = requests.post(URI, json=request)\n",
    "\n",
    "    if response.status_code == 200:\n",
    "        result = response.json()\n",
    "        return result"
   ]
  },
  {
   "cell_type": "code",
   "execution_count": 3,
   "metadata": {
    "ExecuteTime": {
     "end_time": "2023-12-11T14:12:01.421072Z",
     "start_time": "2023-12-11T14:12:01.407038Z"
    }
   },
   "outputs": [],
   "source": [
    "def get_sim(input_list, correct_extend_map, wrong_extend_map, mode):\n",
    "    if 'zh' in mode:\n",
    "        conj = '实体类型：'\n",
    "    else:\n",
    "        conj = 'Entity:'\n",
    "    \n",
    "    res_sim_dict = {k:[] for k in correct_extend_map.keys()}\n",
    "    \n",
    "    try:\n",
    "        for idx, key in enumerate(correct_extend_map.keys()):\n",
    "            cur_text_list = input_list[idx]\n",
    "            cur_target_label = key\n",
    "            cur_correct_extend_list = correct_extend_map[key]\n",
    "            cur_wrong_extend_list = wrong_extend_map[key]\n",
    "            \n",
    "            correct_wrong_pairs = list(zip(cur_correct_extend_list, cur_wrong_extend_list))\n",
    "            \n",
    "            \n",
    "            for cw_pair in tqdm(correct_wrong_pairs,total=len(correct_wrong_pairs), desc=f'get sim for {key}...'):\n",
    "                cur_sim_list = []\n",
    "                for text in cur_text_list:\n",
    "                    input_t = f'\"{text}\" {conj}{cur_target_label}'\n",
    "                    input_1 = f'\"{text}\" {conj}{cw_pair[0]}'\n",
    "                    input_2 = f'\"{text}\" {conj}{cw_pair[1]}'\n",
    "                    \n",
    "                    sent_embedding_t = np.array(call_api(input_t, cur_target_label, mode))\n",
    "                    sent_embedding_1 = np.array(call_api(input_1, cw_pair[0], mode))\n",
    "                    sent_embedding_2 = np.array(call_api(input_2, cw_pair[1], mode))\n",
    "                    \n",
    "                    sim_A = cosine_similarity(sent_embedding_t.reshape(1, -1), sent_embedding_1.reshape(1, -1))[0][0]\n",
    "                    sim_B = cosine_similarity(sent_embedding_t.reshape(1, -1), sent_embedding_2.reshape(1, -1))[0][0]\n",
    "                    cur_sim_list.append(sim_A - sim_B)\n",
    "                res_sim_dict[key].append(np.mean(cur_sim_list))\n",
    "             \n",
    "    except Exception as e:\n",
    "        print(f'error: {e}')\n",
    "        print(f'key: {key},')      \n",
    "    return res_sim_dict\n",
    "                \n",
    "        "
   ]
  },
  {
   "cell_type": "code",
   "execution_count": null,
   "metadata": {
    "ExecuteTime": {
     "end_time": "2023-12-11T14:12:13.228893Z",
     "start_time": "2023-12-11T14:12:03.238481Z"
    }
   },
   "outputs": [],
   "source": [
    "with open('./data/cmeee/input_list.txt','r',encoding='utf-8') as f:\n",
    "    input_list = [line.strip() for line in f.readlines()]\n",
    "\n",
    "result_list = []\n",
    "for i in range(0, len(input_list), 10):\n",
    "    sublist = input_list[i:i+3]\n",
    "    result_list.append(sublist)\n",
    "\n",
    "with open('./data/cmeee/select_correct_entity_extend_map_baichuan2_13B_zh.json','r',encoding='utf-8') as f:\n",
    "    correct_extend_map = json.load(f)\n",
    "\n",
    "with open('./data/cmeee/select_wrong_entity_extend_map_baichuan2_13B_zh.json','r',encoding='utf-8') as f:\n",
    "    wrong_extend_map = json.load(f)\n",
    "\n",
    "res_dict = get_sim(result_list, correct_extend_map, wrong_extend_map, mode='baichuan2_13B_zh')\n",
    "for k in res_dict.keys():\n",
    "    print(f'{k}: {np.mean(res_dict[k])}')"
   ]
  },
  {
   "cell_type": "code",
   "execution_count": null,
   "metadata": {},
   "outputs": [],
   "source": [
    "with open('./data/ace05/input_list.txt','r',encoding='utf-8') as f:\n",
    "    input_list = [line.strip() for line in f.readlines()]\n",
    "\n",
    "result_list = []\n",
    "for i in range(0, len(input_list), 10):\n",
    "    sublist = input_list[i:i+3]\n",
    "    result_list.append(sublist)\n",
    "\n",
    "with open('./data/ace05/select_correct_entity_extend_map_baichuan2_13B_en.json','r',encoding='utf-8') as f:\n",
    "    correct_extend_map = json.load(f)\n",
    "\n",
    "with open('./data/ace05/select_wrong_entity_extend_map_baichuan2_13B_en.json','r',encoding='utf-8') as f:\n",
    "    wrong_extend_map = json.load(f)\n",
    "\n",
    "res_dict = get_sim(result_list, correct_extend_map, wrong_extend_map, mode='baichuan2_13B_en')\n",
    "for k in res_dict.keys():\n",
    "    print(f'{k}: {np.mean(res_dict[k])}')"
   ]
  }
 ],
 "metadata": {
  "kernelspec": {
   "display_name": "torch",
   "language": "python",
   "name": "python3"
  },
  "language_info": {
   "codemirror_mode": {
    "name": "ipython",
    "version": 3
   },
   "file_extension": ".py",
   "mimetype": "text/x-python",
   "name": "python",
   "nbconvert_exporter": "python",
   "pygments_lexer": "ipython3",
   "version": "3.10.11"
  },
  "toc": {
   "base_numbering": 1,
   "nav_menu": {},
   "number_sections": true,
   "sideBar": true,
   "skip_h1_title": false,
   "title_cell": "Table of Contents",
   "title_sidebar": "Contents",
   "toc_cell": false,
   "toc_position": {},
   "toc_section_display": true,
   "toc_window_display": false
  }
 },
 "nbformat": 4,
 "nbformat_minor": 2
}
