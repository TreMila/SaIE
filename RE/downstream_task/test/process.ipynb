{
 "cells": [
  {
   "cell_type": "code",
   "execution_count": 1,
   "metadata": {
    "ExecuteTime": {
     "end_time": "2023-12-11T07:31:46.361815Z",
     "start_time": "2023-12-11T07:31:46.351979Z"
    }
   },
   "outputs": [],
   "source": [
    "import os\n",
    "import json\n",
    "import re"
   ]
  },
  {
   "cell_type": "code",
   "execution_count": 3,
   "metadata": {
    "ExecuteTime": {
     "end_time": "2023-12-11T08:50:22.369892Z",
     "start_time": "2023-12-11T08:50:22.338867Z"
    }
   },
   "outputs": [],
   "source": [
    "def merge_details(details):\n",
    "    merged_list = []\n",
    "    current_item = \"\"\n",
    "\n",
    "    for i, item in enumerate(details):\n",
    "        if item.strip() and item.strip()[0].isdigit():\n",
    "            j = 1\n",
    "            while j < len(item.strip()) and item.strip()[j].isdigit():\n",
    "                j += 1\n",
    "            if j < len(item.strip()) and item.strip()[j] == \"：\":\n",
    "                merged_list.append(current_item)\n",
    "                current_item = item.strip()\n",
    "            else:\n",
    "                current_item += item.strip()\n",
    "        else:\n",
    "            current_item += item.strip()\n",
    "\n",
    "    merged_list.append(current_item)\n",
    "    merged_list.pop(0)\n",
    "    return merged_list\n",
    "\n",
    "\n",
    "def extract_tuples(string):\n",
    "    tuples = []\n",
    "    depth = 0\n",
    "    start = None\n",
    "    for i, char in enumerate(string):\n",
    "        if char == \"(\" or char == \"（\":\n",
    "            if depth == 0:\n",
    "                start = i\n",
    "            depth += 1\n",
    "        elif char == \")\" or char == \"）\":\n",
    "            depth -= 1\n",
    "            if depth == 0 and start is not None:\n",
    "                tuples.append(string[start+1:i])\n",
    "                start = None\n",
    "    return tuples\n",
    "\n",
    "\n",
    "def get_results(merged_list, input_list, rel_extend_map, mode):\n",
    "    rel_extend_index = 0\n",
    "    cur_rel_extend_list = []\n",
    "    A = []\n",
    "\n",
    "    for idx, item in enumerate(merged_list):\n",
    "        B = []\n",
    "        cur_output_3 = item.split('Output:')\n",
    "        cur_idx = cur_output_3[0].split('：')[0]\n",
    "        cur_true_rel = input_list[int(cur_idx)-1]['rel_type']\n",
    "            \n",
    "        if rel_extend_index == len(cur_rel_extend_list):\n",
    "            rel_extend_index = 0\n",
    "\n",
    "        cur_rel_extend_list = rel_extend_map[cur_true_rel]\n",
    "        if not cur_rel_extend_list:\n",
    "            continue\n",
    "        try:\n",
    "            cur_extend_rel = cur_rel_extend_list[rel_extend_index]\n",
    "        except:\n",
    "            print(idx, cur_true_rel)\n",
    "\n",
    "        for output in cur_output_3[1:]:\n",
    "            sep = \"\"\n",
    "            if 'zh' in mode:\n",
    "                if \"生成关系列表：\" in output:\n",
    "                    sep = \"生成关系列表：\"\n",
    "                elif \"生成的关系列表：\" in output:\n",
    "                    sep = \"生成的关系列表：\"\n",
    "                elif \"生成关系列表为：\" in output:\n",
    "                    sep = \"生成关系列表为：\"\n",
    "                elif \"生成的关系列表为：\" in output:\n",
    "                    sep = \"生成的关系列表为：\"\n",
    "                elif \"生成以下关系列表：\" in output:\n",
    "                    sep = \"生成以下关系列表：\"\n",
    "            elif 'en' in mode:\n",
    "                if \"Generated list of relations:\" in output:\n",
    "                    sep = \"Generated list of relations:\"\n",
    "                elif \"Generate a list of relations:\" in output:\n",
    "                    sep = \"Generate a list of relations:\"\n",
    "                elif \"Generate a list of relations based on the judgment sentence:\" in output:\n",
    "                    sep = \"Generate a list of relations based on the judgment sentence:\"\n",
    "                elif \"List of relations:\" in output:\n",
    "                    sep = \"List of relations:\"\n",
    "                elif \"Generate a list of relationships:\" in output:\n",
    "                    sep = \"Generate a list of relationships:\"\n",
    "                # elif \"subject-object pair:\" in output:\n",
    "                #     sep = \"subject-object pair:\"\n",
    "                # elif \"Subject-object pair:\" in output:\n",
    "                #     sep = \"Subject-object pair:\"\n",
    "\n",
    "            if sep:\n",
    "                tmp = output.split(sep)[1]\n",
    "                matches = extract_tuples(tmp)\n",
    "                if matches:\n",
    "                    for match in matches:\n",
    "                        if 'zh' in mode:\n",
    "                            triple = tuple(match.replace('，',',').strip().strip('（）').split(','))\n",
    "                        elif 'en' in mode:\n",
    "                            triple = tuple(match.strip().strip('()').split(','))\n",
    "                        if len(triple) == 3: \n",
    "                            if 'zh' in mode:\n",
    "                                if cur_extend_rel == triple[0].strip().strip('()').strip('\"\"'):\n",
    "                                    B.append((int(cur_idx)-1, cur_extend_rel, triple[1].strip().strip('()'), triple[2].strip().strip('()')))\n",
    "                                elif cur_extend_rel == triple[1].strip().strip('()').strip('\"\"'):\n",
    "                                    B.append((int(cur_idx)-1, cur_extend_rel, triple[0].strip().strip('()'), triple[2].strip().strip('()')))\n",
    "                                else:\n",
    "                                    B.append((int(cur_idx)-1, cur_extend_rel, '', ''))\n",
    "                            elif 'en' in mode:\n",
    "                                if sep != \"subject-object pair:\" and sep!=\"Subject-object pair:\":\n",
    "                                    B.append((int(cur_idx)-1, cur_extend_rel, triple[0].strip().strip('()'), triple[2].strip().strip('()')))\n",
    "                                else:\n",
    "                                    B.append((int(cur_idx)-1, cur_extend_rel, '', ''))\n",
    "                        elif len(triple) == 2:\n",
    "                            if sep == \"subject-object pair:\" or sep == \"Subject-object pair:\":\n",
    "                                B.append((int(cur_idx)-1, cur_extend_rel, triple[0].strip().strip('()'), triple[1].strip().strip('()')))\n",
    "                            else:\n",
    "                                B.append((int(cur_idx)-1, cur_extend_rel, '', ''))\n",
    "                        else:\n",
    "                            B.append((int(cur_idx)-1, cur_extend_rel, '', ''))\n",
    "\n",
    "                else:\n",
    "                    B.append((int(cur_idx)-1, cur_extend_rel, '', ''))\n",
    "                \n",
    "            else:\n",
    "                B.append((int(cur_idx)-1, cur_extend_rel, '', ''))\n",
    "                continue\n",
    "        if B:\n",
    "            A.append(B)    \n",
    "\n",
    "        rel_extend_index += 1\n",
    "\n",
    "    A = [list(set(item)) for item in A]\n",
    "    \n",
    "    with open(f'./results/test_{mode}.txt','w',encoding='utf-8') as f:\n",
    "        for item in A:\n",
    "            f.write(str(item)+'\\n')"
   ]
  },
  {
   "cell_type": "markdown",
   "metadata": {},
   "source": [
    "CMeIE"
   ]
  },
  {
   "cell_type": "code",
   "execution_count": 4,
   "metadata": {},
   "outputs": [],
   "source": [
    "with open('./results/details_zh.txt','r',encoding='utf-8') as f:\n",
    "    test_details = f.readlines()\n",
    "\n",
    "with open('./data/cmeie/input_list.json','r',encoding='utf-8') as f:\n",
    "    input_list = json.load(f)\n",
    "\n",
    "with open('./data/cmeie/rel_extend_map.json','r',encoding='utf-8') as f:\n",
    "    rel_extend_map = json.load(f)\n",
    "\n",
    "merged_list = merge_details(test_details)\n",
    "get_results(merged_list, input_list, rel_extend_map, 'zh')"
   ]
  },
  {
   "cell_type": "markdown",
   "metadata": {},
   "source": [
    "SCIERC"
   ]
  },
  {
   "cell_type": "code",
   "execution_count": 6,
   "metadata": {},
   "outputs": [],
   "source": [
    "with open('./results/details_en.txt','r',encoding='utf-8') as f:\n",
    "    test_details = f.readlines()\n",
    "\n",
    "with open('./data/scierc/input_list.json','r',encoding='utf-8') as f:\n",
    "    input_list = json.load(f)\n",
    "\n",
    "with open('./data/scierc/rel_extend_map.json','r',encoding='utf-8') as f:\n",
    "    rel_extend_map = json.load(f)\n",
    "\n",
    "merged_list = merge_details(test_details)\n",
    "get_results(merged_list, input_list, rel_extend_map, 'en')"
   ]
  },
  {
   "cell_type": "markdown",
   "metadata": {},
   "source": [
    "Baichuan2-CMeIE"
   ]
  },
  {
   "cell_type": "code",
   "execution_count": 47,
   "metadata": {
    "ExecuteTime": {
     "end_time": "2023-12-11T08:50:27.288312Z",
     "start_time": "2023-12-11T08:50:27.226807Z"
    }
   },
   "outputs": [],
   "source": [
    "with open('./results/details_baichuan2_13B_zh.txt','r',encoding='utf-8') as f:\n",
    "    test_details = f.readlines()\n",
    "\n",
    "with open('./data/cmeie/input_list.json','r',encoding='utf-8') as f:\n",
    "    input_list = json.load(f)\n",
    "\n",
    "with open('./data/cmeie/final_rel_extend_map_baichuan2_13B_zh.json','r',encoding='utf-8') as f:\n",
    "    rel_extend_map = json.load(f)\n",
    "\n",
    "merged_list = merge_details(test_details)\n",
    "get_results(merged_list, input_list, rel_extend_map, 'baichuan2_13B_zh')"
   ]
  },
  {
   "cell_type": "markdown",
   "metadata": {},
   "source": [
    "Baichuan2-SCIERC"
   ]
  },
  {
   "cell_type": "code",
   "execution_count": 46,
   "metadata": {
    "ExecuteTime": {
     "end_time": "2023-12-11T08:50:25.504245Z",
     "start_time": "2023-12-11T08:50:25.268295Z"
    }
   },
   "outputs": [],
   "source": [
    "with open('./results/details_baichuan2_13B_en.txt','r',encoding='utf-8') as f:\n",
    "    test_details = f.readlines()\n",
    "\n",
    "with open('./data/scierc/input_list.json','r',encoding='utf-8') as f:\n",
    "    input_list = json.load(f)\n",
    "\n",
    "with open('./data/scierc/final_rel_extend_map_baichuan2_13B_en.json','r',encoding='utf-8') as f:\n",
    "    rel_extend_map = json.load(f)\n",
    "\n",
    "merged_list = merge_details(test_details)\n",
    "get_results(merged_list, input_list, rel_extend_map, 'baichuan2_13B_en')"
   ]
  },
  {
   "cell_type": "markdown",
   "metadata": {},
   "source": [
    "Alpaca"
   ]
  },
  {
   "cell_type": "code",
   "execution_count": null,
   "metadata": {},
   "outputs": [],
   "source": [
    "with open('./results/details_alpaca_33B_zh.txt','r',encoding='utf-8') as f:\n",
    "    test_details = f.readlines()\n",
    "\n",
    "with open('./data/cmeie/input_list.json','r',encoding='utf-8') as f:\n",
    "    input_list = json.load(f)\n",
    "\n",
    "with open('./data/cmeie/final_rel_extend_map_alpaca_33B_zh.json','r',encoding='utf-8') as f:\n",
    "    rel_extend_map = json.load(f)\n",
    "\n",
    "merged_list = merge_details(test_details)\n",
    "get_results(merged_list, input_list, rel_extend_map, 'alpaca_33B_zh')"
   ]
  },
  {
   "cell_type": "code",
   "execution_count": 4,
   "metadata": {},
   "outputs": [],
   "source": [
    "with open('./results/details_alpaca_33B_en.txt','r',encoding='utf-8') as f:\n",
    "    test_details = f.readlines()\n",
    "\n",
    "with open('./data/scierc/input_list.json','r',encoding='utf-8') as f:\n",
    "    input_list = json.load(f)\n",
    "\n",
    "with open('./data/scierc/final_rel_extend_map_alpaca_33B_en.json','r',encoding='utf-8') as f:\n",
    "    rel_extend_map = json.load(f)\n",
    "\n",
    "merged_list = merge_details(test_details)\n",
    "get_results(merged_list, input_list, rel_extend_map, 'alpaca_33B_en')"
   ]
  }
 ],
 "metadata": {
  "kernelspec": {
   "display_name": "torch",
   "language": "python",
   "name": "python3"
  },
  "language_info": {
   "codemirror_mode": {
    "name": "ipython",
    "version": 3
   },
   "file_extension": ".py",
   "mimetype": "text/x-python",
   "name": "python",
   "nbconvert_exporter": "python",
   "pygments_lexer": "ipython3",
   "version": "3.10.11"
  },
  "toc": {
   "base_numbering": 1,
   "nav_menu": {},
   "number_sections": true,
   "sideBar": true,
   "skip_h1_title": false,
   "title_cell": "Table of Contents",
   "title_sidebar": "Contents",
   "toc_cell": false,
   "toc_position": {},
   "toc_section_display": true,
   "toc_window_display": false
  }
 },
 "nbformat": 4,
 "nbformat_minor": 2
}
