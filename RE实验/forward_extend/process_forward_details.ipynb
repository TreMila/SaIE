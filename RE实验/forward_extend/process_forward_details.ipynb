{
 "cells": [
  {
   "cell_type": "code",
   "execution_count": 1,
   "metadata": {},
   "outputs": [],
   "source": [
    "import os\n",
    "import json\n",
    "import re"
   ]
  },
  {
   "cell_type": "code",
   "execution_count": 2,
   "metadata": {},
   "outputs": [],
   "source": [
    "def merge_details(file_path):\n",
    "    with open(file_path,'r',encoding='utf-8') as f:\n",
    "        forward_details = f.readlines()\n",
    "\n",
    "\n",
    "    merged_list = []\n",
    "    curreve_item = \"\"\n",
    "\n",
    "    for i, item in enumerate(forward_details):\n",
    "        if item.strip() and item.strip()[0].isdigit():\n",
    "            j = 1\n",
    "            while j < len(item.strip()) and item.strip()[j].isdigit():\n",
    "                j += 1\n",
    "            if j < len(item.strip()) and item.strip()[j] == \"：\":\n",
    "                merged_list.append(curreve_item)\n",
    "                curreve_item = item.strip()\n",
    "            else:\n",
    "                curreve_item += item.strip()\n",
    "        else:\n",
    "            curreve_item += item.strip()\n",
    "\n",
    "    merged_list.append(curreve_item)\n",
    "    merged_list.pop(0)\n",
    "    return merged_list\n",
    "\n",
    "\n",
    "def get_extend_map(merged_list, mode):\n",
    "    rel_extend_map = {}\n",
    "    for i, item in enumerate(merged_list):\n",
    "        if mode == \"zh\":\n",
    "            item = item.replace(\" \",\"\")\n",
    "\n",
    "        gold = item.split(\"gold:\")[1]\n",
    "        if gold not in rel_extend_map:\n",
    "            rel_extend_map[gold] = []\n",
    "\n",
    "\n",
    "        extend_rel_str = item.split(\"gold:\")[0]\n",
    "        matches = re.findall(r'\\[(.*?)\\]', extend_rel_str)\n",
    "\n",
    "        for match in matches:\n",
    "            if mode == \"zh\":\n",
    "                match = match.replace('\"','').replace(\"'\",'').replace('（','').replace('）','').replace('(','').replace(')','')\n",
    "                match = match.replace(\"，\",\",\").split(\",\")\n",
    "            else:\n",
    "                match = match.replace('\"','').replace(\"'\",'').replace('（','').replace('）','').replace('(','').replace(')','')            \n",
    "                match = match.split(\",\")\n",
    "            \n",
    "            for extend_rel in match:\n",
    "                extend_rel = extend_rel.strip()\n",
    "                if extend_rel not in rel_extend_map[gold]:\n",
    "                    rel_extend_map[gold].append(extend_rel)\n",
    "\n",
    "    lengths = [len(rel_extend_map[key]) for key in rel_extend_map]\n",
    "\n",
    "    with open(f'./results/rel_extend_map_{mode}.json','w',encoding='utf-8') as f:\n",
    "        json.dump(rel_extend_map, f, ensure_ascii=False, indent=4)\n",
    "    \n",
    "    return rel_extend_map, lengths\n",
    "\n",
    "\n",
    "def get_filtered_extend_map(rel_extend_map, mode):\n",
    "    if '_zh' in mode:\n",
    "        with open('../CMeIE/processed_data/labels.txt','r',encoding='utf-8') as f:\n",
    "            gold_type = [item.strip('\\n') for item in f.readlines()]\n",
    "    elif '_en' in mode:\n",
    "        gold_type = ['HYPONYM-OF', \n",
    "                    'FEATURE-OF',\n",
    "                    'USED-FOR',\n",
    "                    'CONJUNCTION',\n",
    "                    'EVALUATE-FOR',\n",
    "                    'PART-OF',\n",
    "                    'COMPARE']\n",
    "\n",
    "    \n",
    "    filtered_rel_extend_map = {}\n",
    "\n",
    "    for key in rel_extend_map:\n",
    "        tmp = list(set(rel_extend_map[key]))\n",
    "        filtered_rel_extend_map[key] = [item for item in tmp if item not in gold_type]\n",
    "\n",
    "\n",
    "    filtered_lengths = [len(filtered_rel_extend_map[key]) for key in filtered_rel_extend_map]\n",
    "\n",
    "    with open(f'./results/filtered_rel_extend_map_{mode}.json','w',encoding='utf-8') as f:\n",
    "        json.dump(filtered_rel_extend_map, f, ensure_ascii=False, indent=4)\n",
    "\n",
    "    return filtered_rel_extend_map, filtered_lengths\n",
    "\n",
    "\n",
    "# 处理关系类型扩展词中的交集部分\n",
    "def human_process(filtered_event_extend_map, mode):\n",
    "    repeated_values = []\n",
    "    value_to_keys = {}\n",
    "\n",
    "\n",
    "    for key1, values1 in filtered_event_extend_map.items():\n",
    "        for key2, values2 in filtered_event_extend_map.items():\n",
    "            if key1 != key2 and key1 < key2:\n",
    "                for value in values1:\n",
    "                    if value in values2:\n",
    "                        repeated_values.append(value)\n",
    "                        if value in value_to_keys.keys():\n",
    "                            if key1 not in value_to_keys[value]:\n",
    "                                value_to_keys[value].append(key1)\n",
    "                            if key2 not in value_to_keys[value]:\n",
    "                                value_to_keys[value].append(key2)\n",
    "                        else:\n",
    "                            value_to_keys[value] = [key1, key2]\n",
    "\n",
    "    with open(f'./results/交集_{mode}_raw.txt','w',encoding='utf-8') as f:\n",
    "        for value, keys in value_to_keys.items():\n",
    "            f.write('{} ：{}\\n'.format(value, '、'.join(keys)))\n"
   ]
  },
  {
   "cell_type": "markdown",
   "metadata": {},
   "source": [
    "CMeIE"
   ]
  },
  {
   "cell_type": "code",
   "execution_count": null,
   "metadata": {},
   "outputs": [],
   "source": [
    "merged_list = merge_details('./results/extend_forward_zh.txt')\n",
    "rel_extend_map, lengths = get_extend_map(merged_list, mode=\"zh\")\n",
    "filtered_rel_extend_map, filtered_lengths = get_filtered_extend_map(rel_extend_map, mode=\"zh\")\n",
    "human_process(filtered_rel_extend_map, mode=\"zh\")"
   ]
  },
  {
   "cell_type": "markdown",
   "metadata": {},
   "source": [
    "SCIERC"
   ]
  },
  {
   "cell_type": "code",
   "execution_count": null,
   "metadata": {},
   "outputs": [],
   "source": [
    "merged_list = merge_details('./results/extend_forward_en.txt')\n",
    "rel_extend_map, lengths = get_extend_map(merged_list, mode=\"en\")\n",
    "filtered_rel_extend_map, filtered_lengths = get_filtered_extend_map(rel_extend_map, mode=\"en\")\n",
    "human_process(filtered_rel_extend_map, mode=\"en\")"
   ]
  },
  {
   "cell_type": "markdown",
   "metadata": {},
   "source": [
    "Alpaca-CMeIE"
   ]
  },
  {
   "cell_type": "code",
   "execution_count": null,
   "metadata": {},
   "outputs": [],
   "source": [
    "merged_list = merge_details('./results/extend_forward_alpaca_33B_zh.txt')\n",
    "rel_extend_map, lengths = get_extend_map(merged_list, mode=\"alpaca_33B_zh\")\n",
    "filtered_rel_extend_map, filtered_lengths = get_filtered_extend_map(rel_extend_map, mode=\"alpaca_33B_zh\")\n",
    "human_process(filtered_rel_extend_map, mode=\"alpaca_33B_zh\")"
   ]
  },
  {
   "cell_type": "markdown",
   "metadata": {},
   "source": [
    "Alpaca-SCIERC"
   ]
  },
  {
   "cell_type": "code",
   "execution_count": null,
   "metadata": {},
   "outputs": [],
   "source": [
    "merged_list = merge_details('./results/extend_forward_alpaca_33B_en.txt')\n",
    "rel_extend_map, lengths = get_extend_map(merged_list, mode=\"alpaca_33B_en\")\n",
    "filtered_rel_extend_map, filtered_lengths = get_filtered_extend_map(rel_extend_map, mode=\"alpaca_33B_en\")\n",
    "human_process(filtered_rel_extend_map, mode=\"alpaca_33B_en\")"
   ]
  },
  {
   "cell_type": "markdown",
   "metadata": {},
   "source": [
    "Llama2-SCIERC"
   ]
  },
  {
   "cell_type": "code",
   "execution_count": null,
   "metadata": {},
   "outputs": [],
   "source": [
    "merged_list = merge_details('./results/extend_forward_llama2_70B_en.txt')\n",
    "rel_extend_map, lengths = get_extend_map(merged_list, mode=\"llama2_70B_en\")\n",
    "filtered_rel_extend_map, filtered_lengths = get_filtered_extend_map(rel_extend_map, mode=\"llama2_70B_en\")\n",
    "human_process(filtered_rel_extend_map, mode=\"llama2_70B_en\")"
   ]
  },
  {
   "cell_type": "markdown",
   "metadata": {},
   "source": [
    "ChatGLM-CMeIE"
   ]
  },
  {
   "cell_type": "code",
   "execution_count": null,
   "metadata": {},
   "outputs": [],
   "source": [
    "merged_list = merge_details('./results/extend_forward_chatglm_6B_zh.txt')\n",
    "rel_extend_map, lengths = get_extend_map(merged_list, mode=\"chatglm_6B_zh\")\n",
    "filtered_rel_extend_map, filtered_lengths = get_filtered_extend_map(rel_extend_map, mode=\"chatglm_6B_zh\")\n",
    "human_process(filtered_rel_extend_map, mode=\"chatglm_6B_zh\")"
   ]
  },
  {
   "cell_type": "markdown",
   "metadata": {},
   "source": [
    "ChatGLM-SCIERC"
   ]
  },
  {
   "cell_type": "code",
   "execution_count": null,
   "metadata": {},
   "outputs": [],
   "source": [
    "merged_list = merge_details('./results/extend_forward_chatglm_6B_en.txt')\n",
    "rel_extend_map, lengths = get_extend_map(merged_list, mode=\"chatglm_6B_en\")\n",
    "filtered_rel_extend_map, filtered_lengths = get_filtered_extend_map(rel_extend_map, mode=\"chatglm_6B_en\")\n",
    "human_process(filtered_rel_extend_map, mode=\"chatglm_6B_en\")"
   ]
  },
  {
   "cell_type": "markdown",
   "metadata": {},
   "source": [
    "GPT4-CMeIE"
   ]
  },
  {
   "cell_type": "code",
   "execution_count": null,
   "metadata": {},
   "outputs": [],
   "source": [
    "merged_list = merge_details('./results/extend_forward_gpt4_zh.txt')\n",
    "rel_extend_map, lengths = get_extend_map(merged_list, mode=\"gpt4_zh\")\n",
    "filtered_rel_extend_map, filtered_lengths = get_filtered_extend_map(rel_extend_map, mode=\"gpt4_zh\")\n",
    "human_process(filtered_rel_extend_map, mode=\"gpt4_zh\")"
   ]
  },
  {
   "cell_type": "markdown",
   "metadata": {},
   "source": [
    "GPT4-SCIERC"
   ]
  },
  {
   "cell_type": "code",
   "execution_count": null,
   "metadata": {},
   "outputs": [],
   "source": [
    "merged_list = merge_details('./results/extend_forward_gpt4_en.txt')\n",
    "rel_extend_map, lengths = get_extend_map(merged_list, mode=\"gpt4_en\")\n",
    "filtered_rel_extend_map, filtered_lengths = get_filtered_extend_map(rel_extend_map, mode=\"gpt4_en\")\n",
    "human_process(filtered_rel_extend_map, mode=\"gpt4_en\")"
   ]
  },
  {
   "cell_type": "markdown",
   "metadata": {},
   "source": [
    "Baichuan2-CMeIE"
   ]
  },
  {
   "cell_type": "code",
   "execution_count": null,
   "metadata": {},
   "outputs": [],
   "source": [
    "merged_list = merge_details('./results/extend_forward_baichuan2_13B_zh.txt')\n",
    "rel_extend_map, lengths = get_extend_map(merged_list, mode=\"baichuan2_13B_zh\")\n",
    "filtered_rel_extend_map, filtered_lengths = get_filtered_extend_map(rel_extend_map, mode=\"baichuan2_13B_zh\")\n",
    "human_process(filtered_rel_extend_map, mode=\"baichuan2_13B_zh\")"
   ]
  },
  {
   "cell_type": "markdown",
   "metadata": {},
   "source": [
    "Baichuan2-SCIERC"
   ]
  },
  {
   "cell_type": "code",
   "execution_count": null,
   "metadata": {},
   "outputs": [],
   "source": [
    "merged_list = merge_details('./results/extend_forward_baichuan2_13B_en.txt')\n",
    "rel_extend_map, lengths = get_extend_map(merged_list, mode=\"baichuan2_13B_en\")\n",
    "filtered_rel_extend_map, filtered_lengths = get_filtered_extend_map(rel_extend_map, mode=\"baichuan2_13B_en\")\n",
    "human_process(filtered_rel_extend_map, mode=\"baichuan2_13B_en\")"
   ]
  },
  {
   "cell_type": "code",
   "execution_count": 3,
   "metadata": {},
   "outputs": [],
   "source": [
    "def get_final_map(mode):\n",
    "    with open(f'./results/filtered_rel_extend_map_{mode}.json','r',encoding='utf-8') as f:\n",
    "        filtered_rel_extend_map_zh = json.load(f)\n",
    "\n",
    "    with open(f'./results/交集_{mode}_raw.txt','r',encoding='utf-8') as f:\n",
    "        raw_zh = f.readlines()\n",
    "\n",
    "    tmp_dict1 = {item.split(' ：')[0].strip(): item.split(' ：')[1].strip().split('、') for item in raw_zh}\n",
    "    jiaoji_raw_dict = {value: [key for key, val in tmp_dict1.items() if value in val] for key, values in tmp_dict1.items() for value in values}\n",
    "\n",
    "    with open(f'./results/交集_{mode}.txt','r',encoding='utf-8') as f:\n",
    "        new_zh = f.readlines()\n",
    "\n",
    "    tmp_dict2 = {item.split(' ：')[0].strip(): item.split(' ：')[1].strip() for item in new_zh}\n",
    "    jiaoji_new_dict = {k:[] for k in jiaoji_raw_dict.keys()}\n",
    "    for key, value in tmp_dict2.items():\n",
    "        if value in jiaoji_new_dict:\n",
    "            jiaoji_new_dict[value].append(key)\n",
    "        else:\n",
    "            jiaoji_new_dict[value] = [key]\n",
    "\n",
    "    for key in jiaoji_raw_dict.keys():\n",
    "        tmp_list = jiaoji_raw_dict[key]\n",
    "        wuguan_list = [value for value in filtered_rel_extend_map_zh[key] if value not in tmp_list]\n",
    "        ok_list = jiaoji_new_dict[key]\n",
    "        filtered_rel_extend_map_zh[key] = wuguan_list + ok_list\n",
    "\n",
    "    with open(f'./results/final_rel_extend_map_{mode}.json','w',encoding='utf-8') as f:\n",
    "        json.dump(filtered_rel_extend_map_zh, f, ensure_ascii=False, indent=4)\n",
    "\n"
   ]
  },
  {
   "cell_type": "code",
   "execution_count": 4,
   "metadata": {},
   "outputs": [],
   "source": [
    "# get_final_map('zh')\n",
    "# get_final_map('en')\n",
    "# get_final_map('alpaca_33B_zh')\n",
    "# get_final_map('alpaca_33B_en')\n",
    "# get_final_map('llama2_70B_en')\n",
    "# get_final_map('chatglm_6B_zh')\n",
    "# get_final_map('chatglm_6B_en')\n",
    "get_final_map('baichuan2_13B_zh')\n",
    "get_final_map('baichuan2_13B_en')"
   ]
  },
  {
   "cell_type": "code",
   "execution_count": null,
   "metadata": {},
   "outputs": [],
   "source": []
  }
 ],
 "metadata": {
  "kernelspec": {
   "display_name": "torch",
   "language": "python",
   "name": "python3"
  },
  "language_info": {
   "codemirror_mode": {
    "name": "ipython",
    "version": 3
   },
   "file_extension": ".py",
   "mimetype": "text/x-python",
   "name": "python",
   "nbconvert_exporter": "python",
   "pygments_lexer": "ipython3",
   "version": "3.10.9"
  }
 },
 "nbformat": 4,
 "nbformat_minor": 2
}
